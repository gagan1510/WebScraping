{
 "cells": [
  {
   "cell_type": "markdown",
   "metadata": {},
   "source": [
    "# Scraping metro routes and putting it onto a graph data structure"
   ]
  },
  {
   "cell_type": "code",
   "execution_count": 1,
   "metadata": {},
   "outputs": [],
   "source": [
    "import requests\n",
    "import pandas as pd\n",
    "import numpy as np\n",
    "from bs4 import BeautifulSoup\n",
    "import requests\n",
    "from requests.packages.urllib3.exceptions import InsecureRequestWarning\n",
    "import urllib.parse as urlparse\n",
    "import networkx as nx\n",
    "import matplotlib.pyplot as plt\n",
    "\n",
    "requests.packages.urllib3.disable_warnings(InsecureRequestWarning)"
   ]
  },
  {
   "cell_type": "code",
   "execution_count": 2,
   "metadata": {},
   "outputs": [],
   "source": [
    "Li = pd.read_html(r'https://www.jctsl.org/routes.php', flavor='html5lib',header=0)"
   ]
  },
  {
   "cell_type": "markdown",
   "metadata": {},
   "source": [
    "## List of all the Routes\n",
    "The following is a List of all the available routes in which the metro buses are available."
   ]
  },
  {
   "cell_type": "code",
   "execution_count": 3,
   "metadata": {},
   "outputs": [
    {
     "data": {
      "text/html": [
       "<div>\n",
       "<style scoped>\n",
       "    .dataframe tbody tr th:only-of-type {\n",
       "        vertical-align: middle;\n",
       "    }\n",
       "\n",
       "    .dataframe tbody tr th {\n",
       "        vertical-align: top;\n",
       "    }\n",
       "\n",
       "    .dataframe thead th {\n",
       "        text-align: right;\n",
       "    }\n",
       "</style>\n",
       "<table border=\"1\" class=\"dataframe\">\n",
       "  <thead>\n",
       "    <tr style=\"text-align: right;\">\n",
       "      <th></th>\n",
       "      <th>Route No</th>\n",
       "      <th>Name</th>\n",
       "    </tr>\n",
       "  </thead>\n",
       "  <tbody>\n",
       "    <tr>\n",
       "      <th>0</th>\n",
       "      <td>1</td>\n",
       "      <td>KARMETA TO KHAMARIYA</td>\n",
       "    </tr>\n",
       "    <tr>\n",
       "      <th>1</th>\n",
       "      <td>2</td>\n",
       "      <td>MOTHER TERESA TO KHAMARIYA</td>\n",
       "    </tr>\n",
       "    <tr>\n",
       "      <th>2</th>\n",
       "      <td>3</td>\n",
       "      <td>DHANWANTRI NAGAR TO KHAMARIYA</td>\n",
       "    </tr>\n",
       "    <tr>\n",
       "      <th>3</th>\n",
       "      <td>5</td>\n",
       "      <td>PANAGAR to PANAGAR Via GHAMAPUR</td>\n",
       "    </tr>\n",
       "    <tr>\n",
       "      <th>4</th>\n",
       "      <td>7</td>\n",
       "      <td>RAILWAY PLATFROM NUMBER 4 TO BHEDA GHAT/DHUANDHAR</td>\n",
       "    </tr>\n",
       "    <tr>\n",
       "      <th>5</th>\n",
       "      <td>8</td>\n",
       "      <td>KSHETRIYA BUS STAND TO GOUR BARELA</td>\n",
       "    </tr>\n",
       "    <tr>\n",
       "      <th>6</th>\n",
       "      <td>9</td>\n",
       "      <td>KSHETRIYA BUS STAND TO BHEDA GHAT/DHUANDHAR</td>\n",
       "    </tr>\n",
       "    <tr>\n",
       "      <th>7</th>\n",
       "      <td>12</td>\n",
       "      <td>KSHETRIYA BUS STAND TO GEETADHAM GWARIGHAT</td>\n",
       "    </tr>\n",
       "    <tr>\n",
       "      <th>8</th>\n",
       "      <td>13</td>\n",
       "      <td>RAILWAY PLATFORM NUMBER 1 TO BHEDAGHAAT DUADHAAR</td>\n",
       "    </tr>\n",
       "    <tr>\n",
       "      <th>9</th>\n",
       "      <td>15</td>\n",
       "      <td>MAHARAJPUR TO MEDICAL</td>\n",
       "    </tr>\n",
       "    <tr>\n",
       "      <th>10</th>\n",
       "      <td>16</td>\n",
       "      <td>DAMOHNAKA TO MEDICAL COLLEGE</td>\n",
       "    </tr>\n",
       "    <tr>\n",
       "      <th>11</th>\n",
       "      <td>17</td>\n",
       "      <td>RDVV to DAMOH NAKA</td>\n",
       "    </tr>\n",
       "  </tbody>\n",
       "</table>\n",
       "</div>"
      ],
      "text/plain": [
       "    Route No                                               Name\n",
       "0          1                               KARMETA TO KHAMARIYA\n",
       "1          2                         MOTHER TERESA TO KHAMARIYA\n",
       "2          3                      DHANWANTRI NAGAR TO KHAMARIYA\n",
       "3          5                    PANAGAR to PANAGAR Via GHAMAPUR\n",
       "4          7  RAILWAY PLATFROM NUMBER 4 TO BHEDA GHAT/DHUANDHAR\n",
       "5          8                 KSHETRIYA BUS STAND TO GOUR BARELA\n",
       "6          9        KSHETRIYA BUS STAND TO BHEDA GHAT/DHUANDHAR\n",
       "7         12         KSHETRIYA BUS STAND TO GEETADHAM GWARIGHAT\n",
       "8         13   RAILWAY PLATFORM NUMBER 1 TO BHEDAGHAAT DUADHAAR\n",
       "9         15                              MAHARAJPUR TO MEDICAL\n",
       "10        16                       DAMOHNAKA TO MEDICAL COLLEGE\n",
       "11        17                                 RDVV to DAMOH NAKA"
      ]
     },
     "execution_count": 3,
     "metadata": {},
     "output_type": "execute_result"
    }
   ],
   "source": [
    "dfArrival = pd.DataFrame(Li[0])\n",
    "dfArrival = dfArrival[['Route No', 'Name']]\n",
    "dfArrival"
   ]
  },
  {
   "cell_type": "code",
   "execution_count": 4,
   "metadata": {},
   "outputs": [],
   "source": [
    "dfArrival['From'] = np.nan\n",
    "dfArrival['To'] = np.nan"
   ]
  },
  {
   "cell_type": "markdown",
   "metadata": {},
   "source": [
    "### Start and End of Each Route"
   ]
  },
  {
   "cell_type": "code",
   "execution_count": 5,
   "metadata": {},
   "outputs": [
    {
     "data": {
      "text/html": [
       "<div>\n",
       "<style scoped>\n",
       "    .dataframe tbody tr th:only-of-type {\n",
       "        vertical-align: middle;\n",
       "    }\n",
       "\n",
       "    .dataframe tbody tr th {\n",
       "        vertical-align: top;\n",
       "    }\n",
       "\n",
       "    .dataframe thead th {\n",
       "        text-align: right;\n",
       "    }\n",
       "</style>\n",
       "<table border=\"1\" class=\"dataframe\">\n",
       "  <thead>\n",
       "    <tr style=\"text-align: right;\">\n",
       "      <th></th>\n",
       "      <th>Route No</th>\n",
       "      <th>Name</th>\n",
       "      <th>From</th>\n",
       "      <th>To</th>\n",
       "    </tr>\n",
       "  </thead>\n",
       "  <tbody>\n",
       "    <tr>\n",
       "      <th>0</th>\n",
       "      <td>1</td>\n",
       "      <td>KARMETA TO KHAMARIYA</td>\n",
       "      <td>KARMETA</td>\n",
       "      <td>KHAMARIYA</td>\n",
       "    </tr>\n",
       "    <tr>\n",
       "      <th>1</th>\n",
       "      <td>2</td>\n",
       "      <td>MOTHER TERESA TO KHAMARIYA</td>\n",
       "      <td>MOTHER TERESA</td>\n",
       "      <td>KHAMARIYA</td>\n",
       "    </tr>\n",
       "    <tr>\n",
       "      <th>2</th>\n",
       "      <td>3</td>\n",
       "      <td>DHANWANTRI NAGAR TO KHAMARIYA</td>\n",
       "      <td>DHANWANTRI NAGAR</td>\n",
       "      <td>KHAMARIYA</td>\n",
       "    </tr>\n",
       "    <tr>\n",
       "      <th>4</th>\n",
       "      <td>7</td>\n",
       "      <td>RAILWAY PLATFROM NUMBER 4 TO BHEDA GHAT/DHUANDHAR</td>\n",
       "      <td>RAILWAY PLATFROM NUMBER 4</td>\n",
       "      <td>BHEDA GHAT/DHUANDHAR</td>\n",
       "    </tr>\n",
       "    <tr>\n",
       "      <th>5</th>\n",
       "      <td>8</td>\n",
       "      <td>KSHETRIYA BUS STAND TO GOUR BARELA</td>\n",
       "      <td>KSHETRIYA BUS STAND</td>\n",
       "      <td>GOUR BARELA</td>\n",
       "    </tr>\n",
       "    <tr>\n",
       "      <th>6</th>\n",
       "      <td>9</td>\n",
       "      <td>KSHETRIYA BUS STAND TO BHEDA GHAT/DHUANDHAR</td>\n",
       "      <td>KSHETRIYA BUS STAND</td>\n",
       "      <td>BHEDA GHAT/DHUANDHAR</td>\n",
       "    </tr>\n",
       "    <tr>\n",
       "      <th>7</th>\n",
       "      <td>12</td>\n",
       "      <td>KSHETRIYA BUS STAND TO GEETADHAM GWARIGHAT</td>\n",
       "      <td>KSHETRIYA BUS STAND</td>\n",
       "      <td>GEETADHAM GWARIGHAT</td>\n",
       "    </tr>\n",
       "    <tr>\n",
       "      <th>8</th>\n",
       "      <td>13</td>\n",
       "      <td>RAILWAY PLATFORM NUMBER 1 TO BHEDAGHAAT DUADHAAR</td>\n",
       "      <td>RAILWAY PLATFORM NUMBER 1</td>\n",
       "      <td>BHEDAGHAAT DUADHAAR</td>\n",
       "    </tr>\n",
       "    <tr>\n",
       "      <th>9</th>\n",
       "      <td>15</td>\n",
       "      <td>MAHARAJPUR TO MEDICAL</td>\n",
       "      <td>MAHARAJPUR</td>\n",
       "      <td>MEDICAL</td>\n",
       "    </tr>\n",
       "    <tr>\n",
       "      <th>10</th>\n",
       "      <td>16</td>\n",
       "      <td>DAMOHNAKA TO MEDICAL COLLEGE</td>\n",
       "      <td>DAMOHNAKA</td>\n",
       "      <td>MEDICAL COLLEGE</td>\n",
       "    </tr>\n",
       "  </tbody>\n",
       "</table>\n",
       "</div>"
      ],
      "text/plain": [
       "    Route No                                               Name  \\\n",
       "0          1                               KARMETA TO KHAMARIYA   \n",
       "1          2                         MOTHER TERESA TO KHAMARIYA   \n",
       "2          3                      DHANWANTRI NAGAR TO KHAMARIYA   \n",
       "4          7  RAILWAY PLATFROM NUMBER 4 TO BHEDA GHAT/DHUANDHAR   \n",
       "5          8                 KSHETRIYA BUS STAND TO GOUR BARELA   \n",
       "6          9        KSHETRIYA BUS STAND TO BHEDA GHAT/DHUANDHAR   \n",
       "7         12         KSHETRIYA BUS STAND TO GEETADHAM GWARIGHAT   \n",
       "8         13   RAILWAY PLATFORM NUMBER 1 TO BHEDAGHAAT DUADHAAR   \n",
       "9         15                              MAHARAJPUR TO MEDICAL   \n",
       "10        16                       DAMOHNAKA TO MEDICAL COLLEGE   \n",
       "\n",
       "                          From                    To  \n",
       "0                     KARMETA              KHAMARIYA  \n",
       "1               MOTHER TERESA              KHAMARIYA  \n",
       "2            DHANWANTRI NAGAR              KHAMARIYA  \n",
       "4   RAILWAY PLATFROM NUMBER 4   BHEDA GHAT/DHUANDHAR  \n",
       "5         KSHETRIYA BUS STAND            GOUR BARELA  \n",
       "6         KSHETRIYA BUS STAND   BHEDA GHAT/DHUANDHAR  \n",
       "7         KSHETRIYA BUS STAND    GEETADHAM GWARIGHAT  \n",
       "8   RAILWAY PLATFORM NUMBER 1    BHEDAGHAAT DUADHAAR  \n",
       "9                  MAHARAJPUR                MEDICAL  \n",
       "10                  DAMOHNAKA        MEDICAL COLLEGE  "
      ]
     },
     "execution_count": 5,
     "metadata": {},
     "output_type": "execute_result"
    }
   ],
   "source": [
    "dfArrival['From'] = dfArrival['Name'].str.split('TO ').str[0]\n",
    "dfArrival['To'] = dfArrival['Name'].str.split('TO ').str[1]\n",
    "dfArrival = dfArrival.dropna()\n",
    "dfArrival"
   ]
  },
  {
   "cell_type": "markdown",
   "metadata": {},
   "source": [
    "### Definig list data structure in which the Node will be stored"
   ]
  },
  {
   "cell_type": "code",
   "execution_count": 6,
   "metadata": {},
   "outputs": [],
   "source": [
    "class LinkedList:\n",
    "    def __init__(self, stopName=None, stopTiming=None):\n",
    "        self.stopName = stopName\n",
    "        self.stopTiming = stopTiming\n",
    "        self.geoLat = None\n",
    "        self.geoLong = None\n",
    "        self.nextNode = None\n",
    "    \n",
    "    def __repr__(self):\n",
    "        return self.stopName\n",
    "    \n",
    "finalRouteList = {}"
   ]
  },
  {
   "cell_type": "markdown",
   "metadata": {},
   "source": [
    "## Getting all the Stops of Every Route"
   ]
  },
  {
   "cell_type": "code",
   "execution_count": 7,
   "metadata": {},
   "outputs": [],
   "source": [
    "for Name in np.array(dfArrival['Name'].values, dtype=str):\n",
    "    finalRouteList[Name] = LinkedList()"
   ]
  },
  {
   "cell_type": "code",
   "execution_count": 8,
   "metadata": {},
   "outputs": [],
   "source": [
    "for Name in np.array(dfArrival[['Route No', 'Name']]):\n",
    "    urlName = Name[1].replace(\" \", \"%20\")\n",
    "    urlName = r\"https://www.jctsl.org/route_details.php?id=\"+ str(Name[0]) + \"&path=\" + urlName\n",
    "\n",
    "    individualList = pd.read_html(urlName, flavor='html5lib',header=0)\n",
    "    dfIndividual = pd.DataFrame(individualList[0])\n",
    "    dfIndividual = dfIndividual[['Location', 'Timings']]\n",
    "    insertNode = finalRouteList[Name[1]]\n",
    "    for test in np.array(dfIndividual[['Location', 'Timings']]):\n",
    "        insertNode.stopName = test[0]\n",
    "        insertNode.stopTiming = test[1]\n",
    "        insertNode.nextNode = LinkedList()\n",
    "        insertNode = insertNode.nextNode\n"
   ]
  },
  {
   "cell_type": "code",
   "execution_count": 9,
   "metadata": {},
   "outputs": [
    {
     "data": {
      "text/html": [
       "<div>\n",
       "<style scoped>\n",
       "    .dataframe tbody tr th:only-of-type {\n",
       "        vertical-align: middle;\n",
       "    }\n",
       "\n",
       "    .dataframe tbody tr th {\n",
       "        vertical-align: top;\n",
       "    }\n",
       "\n",
       "    .dataframe thead th {\n",
       "        text-align: right;\n",
       "    }\n",
       "</style>\n",
       "<table border=\"1\" class=\"dataframe\">\n",
       "  <thead>\n",
       "    <tr style=\"text-align: right;\">\n",
       "      <th></th>\n",
       "      <th>Location</th>\n",
       "      <th>Timings</th>\n",
       "    </tr>\n",
       "  </thead>\n",
       "  <tbody>\n",
       "    <tr>\n",
       "      <th>0</th>\n",
       "      <td>RANITAL</td>\n",
       "      <td>12:50:00</td>\n",
       "    </tr>\n",
       "    <tr>\n",
       "      <th>1</th>\n",
       "      <td>GOLE BAZAR</td>\n",
       "      <td>12:51:00</td>\n",
       "    </tr>\n",
       "    <tr>\n",
       "      <th>2</th>\n",
       "      <td>JAAMDAAR HOSPITAL</td>\n",
       "      <td>12:53:00</td>\n",
       "    </tr>\n",
       "    <tr>\n",
       "      <th>3</th>\n",
       "      <td>SHYAM TALKIES</td>\n",
       "      <td>12:54:00</td>\n",
       "    </tr>\n",
       "    <tr>\n",
       "      <th>4</th>\n",
       "      <td>SAMDARIYA MAAL</td>\n",
       "      <td>12:55:00</td>\n",
       "    </tr>\n",
       "    <tr>\n",
       "      <th>5</th>\n",
       "      <td>MATA GUJRI COLLEGE</td>\n",
       "      <td>12:56:00</td>\n",
       "    </tr>\n",
       "    <tr>\n",
       "      <th>6</th>\n",
       "      <td>PRABHU VANDANA</td>\n",
       "      <td>12:56:00</td>\n",
       "    </tr>\n",
       "    <tr>\n",
       "      <th>7</th>\n",
       "      <td>KHANDELWAAL FURNITURE</td>\n",
       "      <td>12:57:00</td>\n",
       "    </tr>\n",
       "    <tr>\n",
       "      <th>8</th>\n",
       "      <td>MAIN BUS STAND</td>\n",
       "      <td>12:58:00</td>\n",
       "    </tr>\n",
       "    <tr>\n",
       "      <th>9</th>\n",
       "      <td>SHASTRI BRIDGE</td>\n",
       "      <td>13:00:00</td>\n",
       "    </tr>\n",
       "    <tr>\n",
       "      <th>10</th>\n",
       "      <td>MADAN MAHAL</td>\n",
       "      <td>13:03:00</td>\n",
       "    </tr>\n",
       "    <tr>\n",
       "      <th>11</th>\n",
       "      <td>KRIPAL CHOWK</td>\n",
       "      <td>13:05:00</td>\n",
       "    </tr>\n",
       "    <tr>\n",
       "      <th>12</th>\n",
       "      <td>RAILWAY COLONY</td>\n",
       "      <td>13:07:00</td>\n",
       "    </tr>\n",
       "    <tr>\n",
       "      <th>13</th>\n",
       "      <td>RATAN NAGAR</td>\n",
       "      <td>13:08:00</td>\n",
       "    </tr>\n",
       "    <tr>\n",
       "      <th>14</th>\n",
       "      <td>SHAKTI NAGAR CHOWK</td>\n",
       "      <td>13:10:00</td>\n",
       "    </tr>\n",
       "    <tr>\n",
       "      <th>15</th>\n",
       "      <td>BHOLE KUTI</td>\n",
       "      <td>13:11:00</td>\n",
       "    </tr>\n",
       "    <tr>\n",
       "      <th>16</th>\n",
       "      <td>SAINIK SOCIETY</td>\n",
       "      <td>13:12:00</td>\n",
       "    </tr>\n",
       "    <tr>\n",
       "      <th>17</th>\n",
       "      <td>TAKSHILA INSTITUTE OF ENGINEERING AND TECHNOLOGY</td>\n",
       "      <td>13:14:00</td>\n",
       "    </tr>\n",
       "    <tr>\n",
       "      <th>18</th>\n",
       "      <td>SUPATAAL</td>\n",
       "      <td>13:17:00</td>\n",
       "    </tr>\n",
       "    <tr>\n",
       "      <th>19</th>\n",
       "      <td>GARHA</td>\n",
       "      <td>13:19:00</td>\n",
       "    </tr>\n",
       "    <tr>\n",
       "      <th>20</th>\n",
       "      <td>TRIPURI CHOWK</td>\n",
       "      <td>13:21:00</td>\n",
       "    </tr>\n",
       "    <tr>\n",
       "      <th>21</th>\n",
       "      <td>MEDICAL COLLEGE</td>\n",
       "      <td>13:23:00</td>\n",
       "    </tr>\n",
       "  </tbody>\n",
       "</table>\n",
       "</div>"
      ],
      "text/plain": [
       "                                            Location   Timings\n",
       "0                                            RANITAL  12:50:00\n",
       "1                                         GOLE BAZAR  12:51:00\n",
       "2                                  JAAMDAAR HOSPITAL  12:53:00\n",
       "3                                      SHYAM TALKIES  12:54:00\n",
       "4                                     SAMDARIYA MAAL  12:55:00\n",
       "5                                 MATA GUJRI COLLEGE  12:56:00\n",
       "6                                     PRABHU VANDANA  12:56:00\n",
       "7                              KHANDELWAAL FURNITURE  12:57:00\n",
       "8                                     MAIN BUS STAND  12:58:00\n",
       "9                                     SHASTRI BRIDGE  13:00:00\n",
       "10                                       MADAN MAHAL  13:03:00\n",
       "11                                      KRIPAL CHOWK  13:05:00\n",
       "12                                    RAILWAY COLONY  13:07:00\n",
       "13                                       RATAN NAGAR  13:08:00\n",
       "14                                SHAKTI NAGAR CHOWK  13:10:00\n",
       "15                                        BHOLE KUTI  13:11:00\n",
       "16                                    SAINIK SOCIETY  13:12:00\n",
       "17  TAKSHILA INSTITUTE OF ENGINEERING AND TECHNOLOGY  13:14:00\n",
       "18                                          SUPATAAL  13:17:00\n",
       "19                                             GARHA  13:19:00\n",
       "20                                     TRIPURI CHOWK  13:21:00\n",
       "21                                   MEDICAL COLLEGE  13:23:00"
      ]
     },
     "execution_count": 9,
     "metadata": {},
     "output_type": "execute_result"
    }
   ],
   "source": [
    "dfIndividual"
   ]
  },
  {
   "cell_type": "markdown",
   "metadata": {},
   "source": [
    "## Getting geolocations of all the stops from each route\n",
    "keeping in mind, each stop can be present in multiple Routes"
   ]
  },
  {
   "cell_type": "code",
   "execution_count": 10,
   "metadata": {},
   "outputs": [],
   "source": [
    "soupUrl1 = 'https://www.jctsl.org/route_details.php?id=1&path=KARMETA%20TO%20KHAMARIYA'\n",
    "soupUrl2 = 'https://www.jctsl.org/route_details.php?id=2&path=MOTHER%20TERESA%20TO%20KHAMARIYA'\n",
    "soupUrl3 = 'https://www.jctsl.org/route_details.php?id=3&path=DHANWANTRI%20NAGAR%20TO%20KHAMARIYA'\n",
    "\n",
    "getRequest1 = requests.get(soupUrl1)\n",
    "getRequest2 = requests.get(soupUrl2)\n",
    "getRequest3 = requests.get(soupUrl3)\n",
    "\n",
    "soup1 = BeautifulSoup(getRequest1.content, 'html.parser')\n",
    "soup2 = BeautifulSoup(getRequest2.content, 'html.parser')\n",
    "soup3 = BeautifulSoup(getRequest3.content, 'html.parser')"
   ]
  },
  {
   "cell_type": "code",
   "execution_count": 32,
   "metadata": {},
   "outputs": [],
   "source": [
    "name1 = 'KARMETA TO KHAMARIYA'\n",
    "name2 = 'MOTHER TERESA TO KHAMARIYA'    \n",
    "name3 = 'DHANWANTRI NAGAR TO KHAMARIYA'\n",
    "\n",
    "travNode = finalRouteList[name1]\n",
    "for links in soup1.findAll('a', attrs={'class':'text-info'}):\n",
    "    \n",
    "    parsed = urlparse.urlparse(links['href'])\n",
    "    \n",
    "    params = urlparse.parse_qsl(parsed.query)\n",
    "    test123 = params[0][1].split('\\n')\n",
    "    for i in test123:\n",
    "        travNode.geoLat = float(i.split(',')[0])\n",
    "        travNode.geoLong = float(i.split(',')[1])\n",
    "        travNode = travNode.nextNode    \n",
    "\n",
    "                \n",
    "travNode = finalRouteList[name2]\n",
    "for links in soup2.findAll('a', attrs={'class':'text-info'}):\n",
    "    \n",
    "    parsed2 = urlparse.urlparse(links['href'])\n",
    "    \n",
    "    params2 = urlparse.parse_qsl(parsed2.query)\n",
    "    test123 = params2[0][1].split('\\n')\n",
    "    for i in test123:\n",
    "        travNode.geoLat = float(i.split(',')[0])\n",
    "        travNode.geoLong = float(i.split(',')[1])\n",
    "        travNode = travNode.nextNode    \n",
    "        \n",
    "\n",
    "travNode = finalRouteList[name3]\n",
    "for links in soup3.findAll('a', attrs={'class':'text-info'}):\n",
    "    \n",
    "    parsed3 = urlparse.urlparse(links['href'])\n",
    "    \n",
    "    params3 = urlparse.parse_qsl(parsed3.query)\n",
    "    test123 = params3[0][1].split('\\n')\n",
    "    for i in test123:\n",
    "        travNode.geoLat = float(i.split(',')[0])\n",
    "        travNode.geoLong = float(i.split(',')[1])\n",
    "        travNode = travNode.nextNode    "
   ]
  },
  {
   "cell_type": "markdown",
   "metadata": {},
   "source": [
    "## Graphs of some specific routes\n",
    "The following are the distinct graphs of 3 routes."
   ]
  },
  {
   "cell_type": "code",
   "execution_count": 12,
   "metadata": {},
   "outputs": [],
   "source": [
    "Route1 = nx.Graph()\n",
    "Route2 = nx.Graph()\n",
    "Route3 = nx.Graph()"
   ]
  },
  {
   "cell_type": "code",
   "execution_count": 13,
   "metadata": {},
   "outputs": [],
   "source": [
    "listItem = finalRouteList['KARMETA TO KHAMARIYA']\n",
    "while listItem.nextNode != None:\n",
    "    Route1.add_node(listItem)\n",
    "    listItem = listItem.nextNode\n",
    "    \n",
    "RouteList = list(Route1.nodes())\n",
    "for i in range(0,len(RouteList)-1, 1):\n",
    "    Route1.add_edge(RouteList[i], RouteList[i+1])"
   ]
  },
  {
   "cell_type": "code",
   "execution_count": 14,
   "metadata": {},
   "outputs": [],
   "source": [
    "listItem = finalRouteList['MOTHER TERESA TO KHAMARIYA']\n",
    "while listItem.nextNode != None:\n",
    "    Route2.add_node(listItem)\n",
    "    listItem = listItem.nextNode\n",
    "    \n",
    "RouteList2 = list(Route2.nodes())\n",
    "for i in range(0,len(RouteList2)-1, 1):\n",
    "    Route2.add_edge(RouteList2[i], RouteList2[i+1])"
   ]
  },
  {
   "cell_type": "code",
   "execution_count": 15,
   "metadata": {},
   "outputs": [],
   "source": [
    "listItem = finalRouteList['DHANWANTRI NAGAR TO KHAMARIYA']\n",
    "while listItem.nextNode != None:\n",
    "    Route3.add_node(listItem)\n",
    "    listItem = listItem.nextNode\n",
    "    \n",
    "RouteList3 = list(Route3.nodes())\n",
    "# print(RouteList3)\n",
    "for i in range(0,len(RouteList3)-1, 1):\n",
    "    Route3.add_edge(RouteList3[i], RouteList3[i+1])"
   ]
  },
  {
   "cell_type": "code",
   "execution_count": 16,
   "metadata": {},
   "outputs": [
    {
     "data": {
      "image/png": "[encoded data removed]",
      "text/plain": [
       "<Figure size 432x288 with 1 Axes>"
      ]
     },
     "metadata": {},
     "output_type": "display_data"
    }
   ],
   "source": [
    "nx.draw(Route1, node_color='blue', with_labels=True)"
   ]
  },
  {
   "cell_type": "code",
   "execution_count": 17,
   "metadata": {},
   "outputs": [
    {
     "data": {
      "image/png": "[encoded data removed]",
      "text/plain": [
       "<Figure size 432x288 with 1 Axes>"
      ]
     },
     "metadata": {},
     "output_type": "display_data"
    }
   ],
   "source": [
    "nx.draw(Route2, node_color='red', with_labels=True)"
   ]
  },
  {
   "cell_type": "markdown",
   "metadata": {},
   "source": [
    "### Creating a merged graph of the two routes:\n",
    "1. KARMETA TO KHAMARIYA\n",
    "2. MOTHER TERESA TO KHAMARIYA"
   ]
  },
  {
   "cell_type": "code",
   "execution_count": 18,
   "metadata": {},
   "outputs": [],
   "source": [
    "finalRouteGraph = nx.Graph()\n",
    "\n",
    "for i in Route1.nodes():\n",
    "    finalRouteGraph.add_node(i)\n",
    "for i in Route2.nodes():\n",
    "    finalRouteGraph.add_node(i)\n",
    "    \n",
    "finalRouteGraph.add_edges_from(Route1.edges)\n",
    "finalRouteGraph.add_edges_from(Route2.edges)"
   ]
  },
  {
   "cell_type": "code",
   "execution_count": 19,
   "metadata": {},
   "outputs": [
    {
     "data": {
      "text/plain": [
       "[KARMETA,\n",
       " MADHOTAL,\n",
       " DEEN DAYAL CHOWK,\n",
       " VIJAY NAGAR,\n",
       " EKTA CHOWK,\n",
       " UKHARI CHOURAHA,\n",
       " UKHARI TIRAHA,\n",
       " BALDEV BAG]"
      ]
     },
     "execution_count": 19,
     "metadata": {},
     "output_type": "execute_result"
    }
   ],
   "source": [
    "path = nx.single_source_shortest_path(finalRouteGraph, finalRouteList['KARMETA TO KHAMARIYA'])\n",
    "testRouteOne = finalRouteList['KARMETA TO KHAMARIYA']\n",
    "while testRouteOne.stopName != 'BALDEV BAG':\n",
    "    testRouteOne = testRouteOne.nextNode\n",
    "    \n",
    "path[testRouteOne]"
   ]
  },
  {
   "cell_type": "code",
   "execution_count": 20,
   "metadata": {},
   "outputs": [
    {
     "data": {
      "text/plain": [
       "NodeView((KARMETA, MADHOTAL, DEEN DAYAL CHOWK, VIJAY NAGAR, EKTA CHOWK, UKHARI CHOURAHA, UKHARI TIRAHA, BALDEV BAG, RANITAL, CHANCHALA BAI COLLEGE, STADIUM GATE NUMBER 4, MAIN BUS STAND, NAGAR NIGAM, NAUDRA BRIDGE, GHANTA GHAR, JABALPUR COLLECTORATE, RAILWAY PLATFORM NUMBER 4, GHAMAPUR, BAI KA BAGEECHA, KANCHGHAR, CHUNGI CHOWKI, SATPULA TIRAHA, VEHICLE TURNING, GOKALPUR, JABALPUR ENGINEERING COLLEGE, VEHICLE TIRAHA, RANJHI, KHAMARIYA PETROL PUMP, KHAMARIYA FACTORY, KHAMARIYA, GHANA, KATANGI BAY PASS, MOTHER TERESA, MADHOTAL, DEEN DAYAL CHOWK, SHIV NAGAR, DAMOH NAKA, PARIJAT BULDING, BALDEV BAG, RANITAL, CHANCHALA BAI COLLEGE, STADIUM GATE NUMBER 4, MAIN BUS STAND, NAGAR NIGAM, NAUDRA BRIDGE, GHANTA GHAR, JABALPUR COLLECTORATE, RAILWAY PLATFORM NUMBER 4, GHAMAPUR, BAI KA BAGEECHA, KANCHGHAR, CHUNGI CHOWKI, SATPULA TIRAHA, VEHICLE TURNING, GOKALPUR, JABALPUR ENGINEERING COLLEGE, VEHICLE TIRAHA, RANJHI, KHAMARIYA PETROL PUMP, KHAMARIYA FACTORY, KHAMARIYA, GHANA))"
      ]
     },
     "execution_count": 20,
     "metadata": {},
     "output_type": "execute_result"
    }
   ],
   "source": [
    "g = nx.Graph()\n",
    "p = nx.Graph()\n",
    "finalRouteGraph.nodes()"
   ]
  },
  {
   "cell_type": "code",
   "execution_count": 27,
   "metadata": {},
   "outputs": [
    {
     "data": {
      "image/png": "[encoded data removed]",
      "text/plain": [
       "<Figure size 432x288 with 1 Axes>"
      ]
     },
     "metadata": {},
     "output_type": "display_data"
    }
   ],
   "source": [
    "nx.draw(finalRouteGraph, node_color='green', with_labels=False)"
   ]
  },
  {
   "cell_type": "code",
   "execution_count": null,
   "metadata": {},
   "outputs": [],
   "source": []
  }
 ],
 "metadata": {
  "kernelspec": {
   "display_name": "Python 3",
   "language": "python",
   "name": "python3"
  },
  "language_info": {
   "codemirror_mode": {
    "name": "ipython",
    "version": 3
   },
   "file_extension": ".py",
   "mimetype": "text/x-python",
   "name": "python",
   "nbconvert_exporter": "python",
   "pygments_lexer": "ipython3",
   "version": "3.6.5"
  }
 },
 "nbformat": 4,
 "nbformat_minor": 2
}
